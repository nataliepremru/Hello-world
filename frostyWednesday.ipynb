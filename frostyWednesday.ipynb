{
 "cells": [
  {
   "cell_type": "code",
   "execution_count": 27,
   "metadata": {},
   "outputs": [],
   "source": [
    "## create a list\n",
    "my_list = ['i', 'd', 'l', 'e']"
   ]
  },
  {
   "cell_type": "code",
   "execution_count": 28,
   "metadata": {},
   "outputs": [],
   "source": [
    "## delete an element from the list\n",
    "del my_list[2:4]"
   ]
  },
  {
   "cell_type": "code",
   "execution_count": 74,
   "metadata": {},
   "outputs": [
    {
     "name": "stdout",
     "output_type": "stream",
     "text": [
      "['s', 't', 'i', 'n', 'g']\n"
     ]
    }
   ],
   "source": [
    "## replacing an entry\n",
    "my_list[1] = \"n\"\n",
    "print(new_list)"
   ]
  },
  {
   "cell_type": "code",
   "execution_count": 75,
   "metadata": {},
   "outputs": [
    {
     "name": "stdout",
     "output_type": "stream",
     "text": [
      "['s', 'i', 'n']\n"
     ]
    }
   ],
   "source": [
    "## concatonating\n",
    "new_list = ['s'] + my_list\n",
    "print(new_list)"
   ]
  },
  {
   "cell_type": "code",
   "execution_count": 76,
   "metadata": {},
   "outputs": [
    {
     "name": "stdout",
     "output_type": "stream",
     "text": [
      "['s', 'i', 'n', 'g']\n"
     ]
    }
   ],
   "source": [
    "## adding an entry to the end\n",
    "new_list.append('g')\n",
    "print(new_list)"
   ]
  },
  {
   "cell_type": "code",
   "execution_count": 77,
   "metadata": {},
   "outputs": [
    {
     "name": "stdout",
     "output_type": "stream",
     "text": [
      "['s', 't', 'i', 'n', 'g']\n"
     ]
    }
   ],
   "source": [
    "## adding an entry to specific index\n",
    "new_list.insert(1, 't')\n",
    "\n",
    "print(new_list)"
   ]
  },
  {
   "cell_type": "code",
   "execution_count": 39,
   "metadata": {},
   "outputs": [
    {
     "name": "stdout",
     "output_type": "stream",
     "text": [
      "g\n"
     ]
    }
   ],
   "source": [
    "import random\n",
    "letter = random.choice(new_list)\n",
    "print(letter)"
   ]
  },
  {
   "cell_type": "code",
   "execution_count": 73,
   "metadata": {},
   "outputs": [
    {
     "name": "stdout",
     "output_type": "stream",
     "text": [
      "[0, 1, 2, 3, 4]\n"
     ]
    }
   ],
   "source": [
    "final_list = []\n",
    "for i in new_list:\n",
    "    final_list.append(new_list.index(i))\n",
    "\n",
    "print(final_list)"
   ]
  },
  {
   "cell_type": "code",
   "execution_count": 43,
   "metadata": {},
   "outputs": [
    {
     "data": {
      "text/plain": [
       "10"
      ]
     },
     "execution_count": 43,
     "metadata": {},
     "output_type": "execute_result"
    }
   ],
   "source": [
    "## sum elements\n",
    "sum(final_list)"
   ]
  },
  {
   "cell_type": "code",
   "execution_count": 45,
   "metadata": {},
   "outputs": [
    {
     "data": {
      "text/plain": [
       "2.0"
      ]
     },
     "execution_count": 45,
     "metadata": {},
     "output_type": "execute_result"
    }
   ],
   "source": [
    "## find average\n",
    "sum(final_list)/len(final_list)"
   ]
  },
  {
   "cell_type": "code",
   "execution_count": 49,
   "metadata": {},
   "outputs": [
    {
     "name": "stdout",
     "output_type": "stream",
     "text": [
      "['One', 'Two']\n"
     ]
    }
   ],
   "source": [
    "## accessing elements of the list\n",
    "my_new_list = ['One', 'Two', 'Three']\n",
    "print(my_new_list[0:2])"
   ]
  },
  {
   "cell_type": "code",
   "execution_count": 50,
   "metadata": {},
   "outputs": [
    {
     "name": "stdout",
     "output_type": "stream",
     "text": [
      "Three\tTwo\tOne\t"
     ]
    }
   ],
   "source": [
    "for i in reversed(my_new_list):\n",
    "    print(i, end='\\t')"
   ]
  },
  {
   "cell_type": "code",
   "execution_count": 53,
   "metadata": {},
   "outputs": [
    {
     "name": "stdout",
     "output_type": "stream",
     "text": [
      "The sum of the numbers is: 55\n",
      "The avergae of the numbers is 5.5\n",
      "1 is below average\n",
      "2 is below average\n",
      "3 is below average\n",
      "4 is below average\n",
      "5 is below average\n",
      "6 is above average\n",
      "7 is above average\n",
      "8 is above average\n",
      "9 is above average\n",
      "10 is above average\n"
     ]
    }
   ],
   "source": [
    "## create empty list that the user will enter their numbers in\n",
    "user_numbers = []\n",
    "## functino speciftying the required inputs from user\n",
    "for i in range(1, 11):\n",
    "    while True:\n",
    "        user_input =input(f'Please enter an integer number #{i}: ')\n",
    "        try:\n",
    "            num = int(user_input)\n",
    "            user_numbers.append(num)\n",
    "            break\n",
    "        except ValueError:\n",
    "            print(\"That is not a valid integer, please enter an integer\")\n",
    "\n",
    "## calculate the sum and average of the numbers\n",
    "total_sum = sum(user_numbers)\n",
    "average = total_sum/len(user_numbers)\n",
    "\n",
    "## output the result\n",
    "print(f\"The sum of the numbers is: {total_sum}\")\n",
    "print(f\"The avergae of the numbers is {average}\")\n",
    "\n",
    "## displaying the numbers based on their proportion\n",
    "for num in user_numbers:\n",
    "    if num < average:\n",
    "        proportion = 'below'\n",
    "    elif num > average:\n",
    "        proportion = 'above'\n",
    "    else:\n",
    "        proportion = 'equal to'\n",
    "    print(f\"{num} is {proportion} average\")"
   ]
  },
  {
   "cell_type": "code",
   "execution_count": 70,
   "metadata": {},
   "outputs": [
    {
     "name": "stdout",
     "output_type": "stream",
     "text": [
      "Cello\n"
     ]
    }
   ],
   "source": [
    "## extracting and concatenating characters from a string\n",
    "my_string = \"Hello world\"\n",
    "print(\"C\" + my_string[1:5])"
   ]
  },
  {
   "cell_type": "code",
   "execution_count": 72,
   "metadata": {},
   "outputs": [
    {
     "data": {
      "text/plain": [
       "9"
      ]
     },
     "execution_count": 72,
     "metadata": {},
     "output_type": "execute_result"
    }
   ],
   "source": [
    "## square of a number\n",
    "def square(no):\n",
    "    square_number = no **2\n",
    "    return square_number\n",
    "\n",
    "square(3)"
   ]
  },
  {
   "cell_type": "code",
   "execution_count": 89,
   "metadata": {},
   "outputs": [
    {
     "data": {
      "text/plain": [
       "28.333333333333336"
      ]
     },
     "execution_count": 89,
     "metadata": {},
     "output_type": "execute_result"
    }
   ],
   "source": [
    "## converting to kilograms\n",
    "\n",
    "def convert_to_kg(pounds):\n",
    "    kilograms = pounds/2.2\n",
    "    return kilograms\n",
    "\n",
    "convert_to_kg(3)\n",
    "\n",
    "## converting fahrenheit to celcius\n",
    "\n",
    "def convert_to_celcius(fahrenheit):\n",
    "    celcius = (fahrenheit - 32)*(5/9)\n",
    "    return celcius\n",
    "\n",
    "convert_to_celcius(83)"
   ]
  },
  {
   "cell_type": "code",
   "execution_count": 90,
   "metadata": {},
   "outputs": [
    {
     "data": {
      "text/plain": [
       "'I am great'"
      ]
     },
     "execution_count": 90,
     "metadata": {},
     "output_type": "execute_result"
    }
   ],
   "source": [
    "## global variable\n",
    "var = \"I am great\"\n",
    "\n",
    "## define a function that can access that variable\n",
    "def global_var():\n",
    "    variable = var\n",
    "    return variable\n",
    "\n",
    "global_var()"
   ]
  },
  {
   "cell_type": "code",
   "execution_count": 91,
   "metadata": {},
   "outputs": [
    {
     "data": {
      "text/plain": [
       "'I am great'"
      ]
     },
     "execution_count": 91,
     "metadata": {},
     "output_type": "execute_result"
    }
   ],
   "source": [
    "var"
   ]
  },
  {
   "cell_type": "code",
   "execution_count": 93,
   "metadata": {},
   "outputs": [
    {
     "name": "stdout",
     "output_type": "stream",
     "text": [
      "I am happy\n"
     ]
    }
   ],
   "source": [
    "## local variable\n",
    "def my_func():\n",
    "    local_var = \"I am happy\"\n",
    "    print(local_var)\n",
    "\n",
    "my_func()"
   ]
  },
  {
   "cell_type": "code",
   "execution_count": 102,
   "metadata": {},
   "outputs": [
    {
     "name": "stdout",
     "output_type": "stream",
     "text": [
      "5\n"
     ]
    }
   ],
   "source": [
    "import random\n",
    "\n",
    "def guess_the_number():\n",
    "    user_guess = input(\"Guess the number\")    \n"
   ]
  },
  {
   "cell_type": "code",
   "execution_count": 5,
   "metadata": {},
   "outputs": [
    {
     "name": "stdout",
     "output_type": "stream",
     "text": [
      "mango, papaya\n",
      "\n",
      "carrot, banana\n",
      "\n",
      "orange, lemon\n"
     ]
    }
   ],
   "source": [
    "## read from a .txt file\n",
    "\n",
    "with open('test.txt', 'r') as file:\n",
    "    for line in file:\n",
    "        print(line)"
   ]
  },
  {
   "cell_type": "code",
   "execution_count": 7,
   "metadata": {},
   "outputs": [
    {
     "name": "stdout",
     "output_type": "stream",
     "text": [
      "mango  papaya\n",
      "carrot  banana\n",
      "orange  lemon\n"
     ]
    }
   ],
   "source": [
    "## mango, papaya\n",
    "\n",
    "## carrot, banana\n",
    "\n",
    "## orange, lemon\n",
    "\n",
    "with open('test.txt', 'r') as file:\n",
    "    for line in file:\n",
    "        line = line.split(',')\n",
    "        print(line[0], line[1].rstrip())"
   ]
  },
  {
   "cell_type": "code",
   "execution_count": 11,
   "metadata": {},
   "outputs": [],
   "source": [
    "## writing or appedning a file\n",
    "def save_to_file(first_name, surname, age):\n",
    "    with open('new data.txt', 'w') as f:\n",
    "        line = \",\".join([first_name,surname, age])\n",
    "        f.write(line + \"\\n\")\n",
    "        f.close()\n",
    "\n",
    "first_name = input(\"Enter your first name please: \")\n",
    "surname = input(\"Enter your surname please: \")\n",
    "age = input(\"Enter your age\")\n",
    "save_to_file(first_name, surname, age)"
   ]
  },
  {
   "cell_type": "code",
   "execution_count": null,
   "metadata": {},
   "outputs": [],
   "source": [
    "## writing a csv file\n",
    "\n"
   ]
  }
 ],
 "metadata": {
  "kernelspec": {
   "display_name": "Python 3",
   "language": "python",
   "name": "python3"
  },
  "language_info": {
   "codemirror_mode": {
    "name": "ipython",
    "version": 3
   },
   "file_extension": ".py",
   "mimetype": "text/x-python",
   "name": "python",
   "nbconvert_exporter": "python",
   "pygments_lexer": "ipython3",
   "version": "3.13.0"
  }
 },
 "nbformat": 4,
 "nbformat_minor": 2
}
