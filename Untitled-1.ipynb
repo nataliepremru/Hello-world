{
 "cells": [
  {
   "cell_type": "code",
   "execution_count": 3,
   "metadata": {},
   "outputs": [
    {
     "name": "stdout",
     "output_type": "stream",
     "text": [
      "Attendance logged successfully\n"
     ]
    }
   ],
   "source": [
    "#import the csv library\n",
    "import csv\n",
    "#function to open the file and return name list\n",
    "def openfile():\n",
    "    names = []\n",
    "    #open the csv file in read mode\n",
    "    with open(\"csvdata.csv\", \"r\") as csvfile:\n",
    "        reader = csv.reader(csvfile)\n",
    "       #for each line in the file add the data to the name list\n",
    "        for line in reader:\n",
    "            #add the data from the line to the end of end of the names list\n",
    "            names.append(line)\n",
    "    #return the list of names\n",
    "    return names\n",
    "#function to take attendance\n",
    "def takeattendance(name_list):\n",
    "    attendance_list = []\n",
    "    #loop through the name_list\n",
    "    for name in name_list:\n",
    "        # check if attended\n",
    "        promptstring = name[0] + \" \" + name[1] + \" present? y/n:\"\n",
    "        attendance = input(promptstring)\n",
    "        # add the first name second name and attendance to attendance_list\n",
    "        attendance_list.append([name[0]] + [name[1]] + [attendance])\n",
    "    #return attendance_list\n",
    "    return attendance_list\n",
    "#function to wirte data to csv file\n",
    "def writefile(attendacelist):\n",
    "    #open the csv file in append mode\n",
    "    with open('attendance.csv', mode='a') as csv_file:\n",
    "        attendance_writer = csv.writer(csv_file, delimiter=',', quotechar='\"', quoting=csv.QUOTE_MINIMAL)\n",
    "        # loop through the attendance list and write the data to a row in csv file\n",
    "        for student in attendancelist:\n",
    "            attendance_writer.writerow([student[0], student[1], student[2]])\n",
    "    #print success message\n",
    "    print(\"Attendance logged successfully\")\n",
    "#call open list - returns a 2d list of names [[firstname,surname],...]\n",
    "namelist = openfile()\n",
    "#call take attendancefunction passing the name list generated above\n",
    "attendancelist = takeattendance(namelist)\n",
    "#write the results to file  by caling the  write file function\n",
    "writefile(attendancelist)"
   ]
  }
 ],
 "metadata": {
  "kernelspec": {
   "display_name": "Python 3",
   "language": "python",
   "name": "python3"
  },
  "language_info": {
   "codemirror_mode": {
    "name": "ipython",
    "version": 3
   },
   "file_extension": ".py",
   "mimetype": "text/x-python",
   "name": "python",
   "nbconvert_exporter": "python",
   "pygments_lexer": "ipython3",
   "version": "3.13.0"
  }
 },
 "nbformat": 4,
 "nbformat_minor": 2
}
